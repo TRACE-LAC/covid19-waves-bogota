{
 "cells": [
  {
   "cell_type": "code",
   "execution_count": 1,
   "id": "dbf97e0c-94b8-46d2-bec9-68816914ec36",
   "metadata": {},
   "outputs": [],
   "source": [
    "# -*- coding: utf-8 -*-\n",
    "\"\"\"\n",
    "Created on Thr Jul 31 2022\n",
    "\n",
    "@author: dsquevedo\n",
    "@author: ntorres\n",
    "\"\"\"\n",
    "import pandas as pd\n",
    "import numpy as np\n",
    "import matplotlib.pyplot as plt\n",
    "plt.style.use('../../plot_scripts/plot_style.mplstyle')\n",
    "from time import time\n",
    "import subprocess"
   ]
  },
  {
   "cell_type": "code",
   "execution_count": 2,
   "id": "291297f3-ea97-4ddd-943a-4faac3e50e96",
   "metadata": {},
   "outputs": [],
   "source": [
    "DATA_PATH = '../../process_data/data/'\n",
    "OUT_PATH = '../results/'\n",
    "FIG_PATH = '../figures/'"
   ]
  },
  {
   "cell_type": "code",
   "execution_count": 3,
   "id": "3245fbf1-f94a-4322-8f29-21928c11cb31",
   "metadata": {},
   "outputs": [],
   "source": [
    "df_hosp = pd.read_csv(DATA_PATH+'hosp_waves_bog.csv')\n",
    "df_icu = pd.read_csv(DATA_PATH+'icu_waves_bog.csv')\n",
    "df_death = pd.read_csv(DATA_PATH+'death_waves_bog.csv')"
   ]
  },
  {
   "cell_type": "code",
   "execution_count": 4,
   "id": "0790eacd-e9c9-43ca-ad4c-94288c8871ce",
   "metadata": {},
   "outputs": [],
   "source": [
    "def calculate_percentage(df, strat='wave', group='age_group'):\n",
    "    df_percentage = df.groupby(by=[strat, group]).size().reset_index(name='counts')\n",
    "    df_percentage['percentage'] = 0\n",
    "    strat_list = df_percentage[strat].unique()\n",
    "    for strat_ in strat_list:\n",
    "        mask = (df_percentage[strat]==strat_)\n",
    "        df_percentage.loc[mask, 'percentage'] = 100 * df_percentage.loc[mask, 'counts'] / df_percentage.loc[mask, 'counts'].sum()\n",
    "        print('The sum over the percentages gives: ', df_percentage.loc[mask ,'percentage'].sum())\n",
    "    return df_percentage"
   ]
  },
  {
   "cell_type": "code",
   "execution_count": 5,
   "id": "711d5686-409a-4228-91e9-33558ab2f023",
   "metadata": {},
   "outputs": [
    {
     "name": "stdout",
     "output_type": "stream",
     "text": [
      "The sum over the percentages gives:  99.99999999999999\n",
      "The sum over the percentages gives:  100.00000000000001\n",
      "The sum over the percentages gives:  99.99999999999999\n",
      "The sum over the percentages gives:  100.0\n",
      "The sum over the percentages gives:  99.99999999999999\n",
      "The sum over the percentages gives:  100.0\n",
      "The sum over the percentages gives:  100.00000000000001\n",
      "The sum over the percentages gives:  100.0\n",
      "The sum over the percentages gives:  99.99999999999999\n",
      "The sum over the percentages gives:  100.0\n",
      "The sum over the percentages gives:  99.99999999999999\n",
      "The sum over the percentages gives:  100.0\n"
     ]
    }
   ],
   "source": [
    "df_hosp_perc = calculate_percentage(df_hosp)\n",
    "df_icu_perc = calculate_percentage(df_icu)\n",
    "df_death_perc = calculate_percentage(df_death)"
   ]
  },
  {
   "cell_type": "code",
   "execution_count": 6,
   "id": "ff277e3e-a719-4ecb-96a6-952b1ad90a42",
   "metadata": {},
   "outputs": [],
   "source": [
    "df_hosp_perc.to_csv(OUT_PATH+'hosp_percentages.csv', index=False)\n",
    "df_icu_perc.to_csv(OUT_PATH+'icu_percentages.csv', index=False)\n",
    "df_death_perc.to_csv(OUT_PATH+'deaths_percentages.csv', index=False)"
   ]
  }
 ],
 "metadata": {
  "kernelspec": {
   "display_name": "bigquery_env",
   "language": "python",
   "name": "bigquery_env"
  },
  "language_info": {
   "codemirror_mode": {
    "name": "ipython",
    "version": 3
   },
   "file_extension": ".py",
   "mimetype": "text/x-python",
   "name": "python",
   "nbconvert_exporter": "python",
   "pygments_lexer": "ipython3",
   "version": "3.10.4"
  }
 },
 "nbformat": 4,
 "nbformat_minor": 5
}
